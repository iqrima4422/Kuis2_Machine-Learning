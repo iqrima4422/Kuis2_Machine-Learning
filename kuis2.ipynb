{
 "cells": [
  {
   "cell_type": "code",
   "execution_count": 153,
   "metadata": {},
   "outputs": [
    {
     "data": {
      "text/html": [
       "<div>\n",
       "<style scoped>\n",
       "    .dataframe tbody tr th:only-of-type {\n",
       "        vertical-align: middle;\n",
       "    }\n",
       "\n",
       "    .dataframe tbody tr th {\n",
       "        vertical-align: top;\n",
       "    }\n",
       "\n",
       "    .dataframe thead th {\n",
       "        text-align: right;\n",
       "    }\n",
       "</style>\n",
       "<table border=\"1\" class=\"dataframe\">\n",
       "  <thead>\n",
       "    <tr style=\"text-align: right;\">\n",
       "      <th></th>\n",
       "      <th>id_ketua</th>\n",
       "      <th>id_anggota1</th>\n",
       "      <th>id_anggota2</th>\n",
       "      <th>id_anggota3</th>\n",
       "      <th>id_anggota4</th>\n",
       "      <th>id_anggota5</th>\n",
       "      <th>keterlibatan_vltr</th>\n",
       "      <th>jml_vltr_terlibat</th>\n",
       "      <th>tahun</th>\n",
       "      <th>skema</th>\n",
       "      <th>luaran_hki</th>\n",
       "      <th>jenis_luaran_hki</th>\n",
       "      <th>potensi_hki</th>\n",
       "      <th>luaran_lain</th>\n",
       "      <th>jenis_luaran_lain</th>\n",
       "      <th>status_luaran_lain</th>\n",
       "    </tr>\n",
       "  </thead>\n",
       "  <tbody>\n",
       "    <tr>\n",
       "      <th>0</th>\n",
       "      <td>7206.0</td>\n",
       "      <td>7214.0</td>\n",
       "      <td>6211.0</td>\n",
       "      <td>8602.0</td>\n",
       "      <td>7801.0</td>\n",
       "      <td>0.0</td>\n",
       "      <td>TIDAK</td>\n",
       "      <td>0</td>\n",
       "      <td>2019</td>\n",
       "      <td>REGULER</td>\n",
       "      <td>TIDAK ADA</td>\n",
       "      <td>TIDAK ADA</td>\n",
       "      <td>TIDAK</td>\n",
       "      <td>TIDAK ADA</td>\n",
       "      <td>TIDAK ADA</td>\n",
       "      <td>TIDAK ADA</td>\n",
       "    </tr>\n",
       "    <tr>\n",
       "      <th>1</th>\n",
       "      <td>7214.0</td>\n",
       "      <td>7109.0</td>\n",
       "      <td>8402.0</td>\n",
       "      <td>7903.0</td>\n",
       "      <td>9202.0</td>\n",
       "      <td>0.0</td>\n",
       "      <td>TIDAK</td>\n",
       "      <td>0</td>\n",
       "      <td>2019</td>\n",
       "      <td>REGULER</td>\n",
       "      <td>TIDAK ADA</td>\n",
       "      <td>TIDAK ADA</td>\n",
       "      <td>TIDAK</td>\n",
       "      <td>TIDAK ADA</td>\n",
       "      <td>TIDAK ADA</td>\n",
       "      <td>TIDAK ADA</td>\n",
       "    </tr>\n",
       "    <tr>\n",
       "      <th>2</th>\n",
       "      <td>5911.0</td>\n",
       "      <td>8201.0</td>\n",
       "      <td>8701.0</td>\n",
       "      <td>9101.0</td>\n",
       "      <td>9003.0</td>\n",
       "      <td>0.0</td>\n",
       "      <td>TIDAK</td>\n",
       "      <td>0</td>\n",
       "      <td>2019</td>\n",
       "      <td>REGULER</td>\n",
       "      <td>TIDAK ADA</td>\n",
       "      <td>TIDAK ADA</td>\n",
       "      <td>TIDAK</td>\n",
       "      <td>TIDAK ADA</td>\n",
       "      <td>TIDAK ADA</td>\n",
       "      <td>TIDAK ADA</td>\n",
       "    </tr>\n",
       "    <tr>\n",
       "      <th>3</th>\n",
       "      <td>8402.0</td>\n",
       "      <td>7702.0</td>\n",
       "      <td>8602.0</td>\n",
       "      <td>8903.0</td>\n",
       "      <td>8903.0</td>\n",
       "      <td>0.0</td>\n",
       "      <td>TIDAK</td>\n",
       "      <td>0</td>\n",
       "      <td>2019</td>\n",
       "      <td>REGULER</td>\n",
       "      <td>TIDAK ADA</td>\n",
       "      <td>TIDAK ADA</td>\n",
       "      <td>TIDAK</td>\n",
       "      <td>TIDAK ADA</td>\n",
       "      <td>TIDAK ADA</td>\n",
       "      <td>TIDAK ADA</td>\n",
       "    </tr>\n",
       "    <tr>\n",
       "      <th>4</th>\n",
       "      <td>8201.0</td>\n",
       "      <td>8305.0</td>\n",
       "      <td>5911.0</td>\n",
       "      <td>5903.0</td>\n",
       "      <td>8402.0</td>\n",
       "      <td>0.0</td>\n",
       "      <td>TIDAK</td>\n",
       "      <td>0</td>\n",
       "      <td>2019</td>\n",
       "      <td>REGULER</td>\n",
       "      <td>TIDAK ADA</td>\n",
       "      <td>TIDAK ADA</td>\n",
       "      <td>TIDAK</td>\n",
       "      <td>TIDAK ADA</td>\n",
       "      <td>TIDAK ADA</td>\n",
       "      <td>TIDAK ADA</td>\n",
       "    </tr>\n",
       "  </tbody>\n",
       "</table>\n",
       "</div>"
      ],
      "text/plain": [
       "   id_ketua  id_anggota1  id_anggota2  id_anggota3  id_anggota4  id_anggota5  \\\n",
       "0    7206.0       7214.0       6211.0       8602.0       7801.0          0.0   \n",
       "1    7214.0       7109.0       8402.0       7903.0       9202.0          0.0   \n",
       "2    5911.0       8201.0       8701.0       9101.0       9003.0          0.0   \n",
       "3    8402.0       7702.0       8602.0       8903.0       8903.0          0.0   \n",
       "4    8201.0       8305.0       5911.0       5903.0       8402.0          0.0   \n",
       "\n",
       "  keterlibatan_vltr  jml_vltr_terlibat  tahun    skema luaran_hki  \\\n",
       "0             TIDAK                  0   2019  REGULER  TIDAK ADA   \n",
       "1             TIDAK                  0   2019  REGULER  TIDAK ADA   \n",
       "2             TIDAK                  0   2019  REGULER  TIDAK ADA   \n",
       "3             TIDAK                  0   2019  REGULER  TIDAK ADA   \n",
       "4             TIDAK                  0   2019  REGULER  TIDAK ADA   \n",
       "\n",
       "  jenis_luaran_hki potensi_hki luaran_lain jenis_luaran_lain  \\\n",
       "0        TIDAK ADA       TIDAK   TIDAK ADA         TIDAK ADA   \n",
       "1        TIDAK ADA       TIDAK   TIDAK ADA         TIDAK ADA   \n",
       "2        TIDAK ADA       TIDAK   TIDAK ADA         TIDAK ADA   \n",
       "3        TIDAK ADA       TIDAK   TIDAK ADA         TIDAK ADA   \n",
       "4        TIDAK ADA       TIDAK   TIDAK ADA         TIDAK ADA   \n",
       "\n",
       "  status_luaran_lain  \n",
       "0          TIDAK ADA  \n",
       "1          TIDAK ADA  \n",
       "2          TIDAK ADA  \n",
       "3          TIDAK ADA  \n",
       "4          TIDAK ADA  "
      ]
     },
     "execution_count": 153,
     "metadata": {},
     "output_type": "execute_result"
    }
   ],
   "source": [
    "# impport Library\n",
    "import numpy as np\n",
    "import pandas as pd\n",
    "\n",
    "\n",
    "df = pd.read_csv('data/dataset_quiz.csv')\n",
    "\n",
    "df = df.fillna(0)\n",
    "df.head()"
   ]
  },
  {
   "cell_type": "markdown",
   "metadata": {},
   "source": [
    "1. Buat 5 jenis visualisasi yang dapat dihasilkan dari dataset yang diberikan!"
   ]
  },
  {
   "cell_type": "code",
   "execution_count": 154,
   "metadata": {},
   "outputs": [
    {
     "data": {
      "image/png": "[encoded data removed]",
      "text/plain": [
       "<Figure size 432x288 with 1 Axes>"
      ]
     },
     "metadata": {
      "needs_background": "light"
     },
     "output_type": "display_data"
    }
   ],
   "source": [
    "# Bar Plot\n",
    "import matplotlib.pyplot as plt\n",
    "\n",
    "%matplotlib inline\n",
    "\n",
    "# ambil sampel data 10 baris\n",
    "# df_10= df.head(10)\n",
    "\n",
    "# Menampilkan Banyaknya Jumlah Volunteer yang Terlibat\n",
    "\n",
    "fig = plt.figure()\n",
    "ax = fig.add_axes([0,0,1,1])\n",
    "ax.set_xlabel('tahun')\n",
    "ax.set_ylabel('jml_vltr_terlibat')\n",
    "\n",
    "ax.bar(df['tahun'],df['jml_vltr_terlibat'])\n",
    "plt.show()"
   ]
  },
  {
   "cell_type": "code",
   "execution_count": 155,
   "metadata": {},
   "outputs": [
    {
     "name": "stdout",
     "output_type": "stream",
     "text": [
      "TIDAK ADA    77\n",
      "Hak Cipta     8\n",
      "Name: jenis_luaran_hki, dtype: int64\n"
     ]
    },
    {
     "data": {
      "image/png": "[encoded data removed]",
      "text/plain": [
       "<Figure size 432x288 with 1 Axes>"
      ]
     },
     "metadata": {},
     "output_type": "display_data"
    }
   ],
   "source": [
    "# Pie Plot\n",
    "import matplotlib.pyplot as plt\n",
    "import seaborn as sns\n",
    "\n",
    "# kita group anggota1 berdasarkan jenis luaran hki\n",
    "dfjenisluaranhki = df.groupby('jenis_luaran_hki').sum()['id_anggota1'].reset_index()\n",
    "dfjenisluarahki = df['jenis_luaran_hki'].value_counts()\n",
    "print(dfjenisluarahki)\n",
    "\n",
    "fig = plt.figure()\n",
    "ax = fig.add_axes([0,0,1,1])\n",
    "ax.axis('equal')\n",
    "plt.title('Jenis Luaran hki')\n",
    "ax.pie(dfjenisluaranhki['id_anggota1'],labels=dfjenisluaranhki['jenis_luaran_hki'],autopct='%1.2f%%')\n",
    "plt.show()"
   ]
  },
  {
   "cell_type": "code",
   "execution_count": 156,
   "metadata": {},
   "outputs": [
    {
     "data": {
      "image/png": "[encoded data removed]",
      "text/plain": [
       "<Figure size 432x288 with 1 Axes>"
      ]
     },
     "metadata": {
      "needs_background": "light"
     },
     "output_type": "display_data"
    }
   ],
   "source": [
    "# Line chart\n",
    "# Menampilkan kenaikan data pertahun\n",
    "\n",
    "import matplotlib.pyplot as plt\n",
    "fig = plt.figure()\n",
    "ax = fig.add_axes([0,0,1,1])\n",
    "tahun = df['tahun']\n",
    "ax.plot(tahun)\n",
    "plt.show()"
   ]
  },
  {
   "cell_type": "code",
   "execution_count": 157,
   "metadata": {},
   "outputs": [
    {
     "name": "stdout",
     "output_type": "stream",
     "text": [
      "TIDAK ADA    77\n",
      "ADA           8\n",
      "Name: luaran_hki, dtype: int64\n"
     ]
    },
    {
     "data": {
      "image/png": "[encoded data removed]",
      "text/plain": [
       "<Figure size 432x288 with 1 Axes>"
      ]
     },
     "metadata": {
      "needs_background": "light"
     },
     "output_type": "display_data"
    }
   ],
   "source": [
    "import matplotlib.pyplot as plt\n",
    "\n",
    "# histogram\n",
    "# BAnyaknya Jumlah Luaran hki berdasarkan kategori \"Ada\" dan \"Tidak Ada\"\n",
    "plt.hist(x='luaran_hki', data=df)\n",
    "\n",
    "luaran = df['luaran_hki'].value_counts()\n",
    "print(luaran)\n",
    "\n",
    "plt.xlabel('Luaran hki')\n",
    "plt.ylabel('Jumlah')\n",
    "plt.title('Banyaknya Jumlah Luaran hki')\n",
    "plt.tight_layout()\n",
    "plt.show()\n",
    "\n"
   ]
  },
  {
   "cell_type": "code",
   "execution_count": 158,
   "metadata": {},
   "outputs": [
    {
     "name": "stderr",
     "output_type": "stream",
     "text": [
      "<ipython-input-158-d48787b02616>:17: UserWarning: Matplotlib is currently using agg, which is a non-GUI backend, so cannot show the figure.\n",
      "  plt.show()\n"
     ]
    },
    {
     "data": {
      "image/png": "[encoded data removed]",
      "text/plain": [
       "<Figure size 720x432 with 1 Axes>"
      ]
     },
     "metadata": {
      "needs_background": "light"
     },
     "output_type": "display_data"
    }
   ],
   "source": [
    "# Scutter plot\n",
    "import seaborn as sns\n",
    "import matplotlib\n",
    "matplotlib.use('Agg')\n",
    "fig, ax = plt.subplots(figsize=(10, 6))\n",
    "\n",
    "df_group = df.groupby('jenis_luaran_lain')\n",
    "colors = {'TIDAK ADA':'red', 'Publikasi Media Massa':'yellow', 'Artikel Ilmiah':'blue', 'Modul Ajar':'green'}\n",
    "\n",
    "# create scatter plot\n",
    "for name, group in df_group:\n",
    "    group.plot(ax=ax, kind='scatter', x='jenis_luaran_lain', y='tahun', label=name, color=colors[name], s=100)\n",
    "\n",
    "plt.title('Dataset Jenis luaran lain Pada tahun Tertentu', size=16)\n",
    "plt.xlabel('\\n Jenis luaran lain', size=14)\n",
    "plt.ylabel('\\n Tahun', size=14)\n",
    "plt.show()"
   ]
  },
  {
   "cell_type": "markdown",
   "metadata": {},
   "source": [
    "2. Lakukan pemilahan data training dan testing yang sesuai dan proporsional dari data tersebut!"
   ]
  },
  {
   "cell_type": "code",
   "execution_count": 159,
   "metadata": {},
   "outputs": [],
   "source": [
    "from sklearn.preprocessing import LabelEncoder\n",
    "encoder = LabelEncoder()\n",
    "df['keterlibatan_vltr']=encoder.fit_transform(df['keterlibatan_vltr'])\n",
    "# df['keterlibatan_vltr'].head(20)\n",
    "\n",
    "df['skema']=encoder.fit_transform(df['skema'])\n",
    "df['luaran_hki']=encoder.fit_transform(df['luaran_hki'])\n",
    "df['jenis_luaran_hki']=encoder.fit_transform(df['jenis_luaran_hki'])\n",
    "df['potensi_hki']=encoder.fit_transform(df['potensi_hki'])\n",
    "df['luaran_lain']=encoder.fit_transform(df['luaran_lain'])\n",
    "df['jenis_luaran_lain']=encoder.fit_transform(df['jenis_luaran_lain'])\n",
    "df['status_luaran_lain']=encoder.fit_transform(df['status_luaran_lain'])"
   ]
  },
  {
   "cell_type": "code",
   "execution_count": 160,
   "metadata": {},
   "outputs": [
    {
     "name": "stdout",
     "output_type": "stream",
     "text": [
      "Shape dari features adalah (85, 15), dan shape dari target adalah (85,)\n"
     ]
    }
   ],
   "source": [
    "# Seleksi Data\n",
    "\n",
    "# X = df.iloc[:, 7:]\n",
    "# y = df['keterlibatan_vltr']\n",
    "\n",
    "X = df.drop(['keterlibatan_vltr'], axis=1)\n",
    "y = df['keterlibatan_vltr']\n",
    "\n",
    "X = pd.get_dummies(X)\n",
    "\n",
    "X.head()\n",
    "\n",
    "print(f\"Shape dari features adalah {X.shape}, dan shape dari target adalah {y.shape}\")"
   ]
  },
  {
   "cell_type": "code",
   "execution_count": 161,
   "metadata": {},
   "outputs": [],
   "source": [
    "# Mengimport model train_test_split untuk ngesplit sebagian data train menjadi data testing\n",
    "from sklearn.model_selection import train_test_split\n",
    "X_train, X_test, y_train, y_test = train_test_split(X, y, test_size=0.2, random_state=1)\n",
    "\n",
    "# print(X_train)\n",
    "# print(X_test)\n",
    "# print(y_train)\n",
    "# print(y_test)\n"
   ]
  },
  {
   "cell_type": "code",
   "execution_count": 162,
   "metadata": {},
   "outputs": [],
   "source": [
    "from sklearn.preprocessing import StandardScaler\n",
    "\n",
    "# Inisasi obyek StandardScaler\n",
    "scaler = StandardScaler()\n",
    "\n",
    "# Standarisasi pada fitur di X_train dan X_test\n",
    "X_train_std = scaler.fit_transform(X_train)\n",
    "X_test_std = scaler.transform(X_test)"
   ]
  },
  {
   "cell_type": "code",
   "execution_count": 163,
   "metadata": {},
   "outputs": [
    {
     "name": "stdout",
     "output_type": "stream",
     "text": [
      "Hasil akurasi data training terstandarisasi: 0.9411764705882353\n",
      "Hasil akurasi data testing terstandarisasi: 1.0\n"
     ]
    }
   ],
   "source": [
    "from sklearn.naive_bayes import GaussianNB\n",
    "from sklearn.metrics import accuracy_score\n",
    "# Buat obyek GaussianNB lain\n",
    "gnb_std = GaussianNB()\n",
    "\n",
    "# Fit dengan data yang telah di standarisasi\n",
    "gnb_std.fit(X_train_std, y_train)\n",
    "\n",
    "# Prediksi dengan data training\n",
    "y_train_std_pred = gnb_std.predict(X_train_std)\n",
    "\n",
    "# Evaluasi akurasi training data\n",
    "acc_train_std = accuracy_score(y_train, y_train_std_pred)\n",
    "\n",
    "# Prediksi test data yang telah di standarisasi\n",
    "y_test_std_pred = gnb_std.predict(X_test_std)\n",
    "\n",
    "# Evaluasi akurasi testing data\n",
    "acc_test_std = accuracy_score(y_test, y_test_std_pred)\n",
    "\n",
    "# Print hasil evaluasi\n",
    "print(f'Hasil akurasi data training terstandarisasi: {acc_train_std}')\n",
    "print(f'Hasil akurasi data testing terstandarisasi: {acc_test_std}')"
   ]
  },
  {
   "cell_type": "code",
   "execution_count": 164,
   "metadata": {},
   "outputs": [
    {
     "name": "stdout",
     "output_type": "stream",
     "text": [
      "[[8 0]\n",
      " [1 8]]\n",
      "              precision    recall  f1-score   support\n",
      "\n",
      "           0       0.89      1.00      0.94         8\n",
      "           1       1.00      0.89      0.94         9\n",
      "\n",
      "    accuracy                           0.94        17\n",
      "   macro avg       0.94      0.94      0.94        17\n",
      "weighted avg       0.95      0.94      0.94        17\n",
      "\n"
     ]
    }
   ],
   "source": [
    "# Melakukan Normalisasi Data\n",
    "from sklearn.preprocessing import MinMaxScaler\n",
    "\n",
    "scaler = MinMaxScaler()\n",
    "\n",
    "\n",
    "X_train = scaler.fit_transform(X_train)\n",
    "X_test = scaler.transform(X_test)\n",
    "\n",
    "# Membuat Model\n",
    "from sklearn.ensemble import RandomForestClassifier\n",
    "\n",
    "model = RandomForestClassifier(n_estimators=100, random_state=42)\n",
    "model.fit(X_train, y_train)\n",
    "\n",
    "# Melakukan Prediksi\n",
    "y_pred = model.predict(X_test)\n",
    "\n",
    "# Melakukan Evaluasi Model\n",
    "from sklearn.metrics import classification_report, confusion_matrix\n",
    "\n",
    "print(confusion_matrix(y_test, y_pred))\n",
    "print(classification_report(y_test, y_pred))"
   ]
  },
  {
   "cell_type": "code",
   "execution_count": 165,
   "metadata": {},
   "outputs": [],
   "source": [
    "# # Implementasi k-fold cross validation (random) dengan training dan testing saja\n",
    "# from sklearn.model_selection import KFold\n",
    "\n",
    "# # inisiasi obyek kfold\n",
    "# kf = KFold(n_splits=4)\n",
    "# print(f'Jumlah fold: {kf.get_n_splits()}')\n",
    "# print(f'Obyek KFold: {kf}')\n",
    "\n",
    "# # Lakukan splitting dengan KFold\n",
    "# kf_split = kf.split(df)\n",
    "# print(f'Jumlah data df: {df.shape[0]}')\n",
    "\n",
    "# # cek index data tiap fold\n",
    "# for train_index, test_index in kf_split:\n",
    "#     print(f'Index train: {train_index} | Index test: {test_index}')"
   ]
  },
  {
   "cell_type": "markdown",
   "metadata": {},
   "source": [
    "3. Tentukan data validasi!"
   ]
  },
  {
   "cell_type": "code",
   "execution_count": 166,
   "metadata": {},
   "outputs": [],
   "source": [
    "# # Split data\n",
    "# from sklearn.model_selection import train_test_split\n",
    "\n",
    "# # Split data training dan dan lainnya\n",
    "# # data lainnya, akan kita split lagi menjadi validasi dan testing.\n",
    "# # Rasio yang akan kita gunakan adalah 8:1:1\n",
    "# df_train, df_unseen = train_test_split(df, test_size=0.2, random_state=0, stratify=df['keterlibatan_vltr'])\n",
    "\n",
    "# # Split lagi antara validasi dan testing\n",
    "# df_val, df_test = train_test_split(df_unseen, test_size=0.5, random_state=0, stratify=df_unseen['keterlibatan_vltr'])\n",
    "\n",
    "# # Cek masing-masing ukuran data\n",
    "\n",
    "# print(f'Jumlah data asli: {df.shape[0]}')\n",
    "# print(f'Jumlah data train: {df_train.shape[0]}')\n",
    "# print(f'Jumlah data val: {df_val.shape[0]}')\n",
    "# print(f'Jumlah data test: {df_test.shape[0]}')\n",
    "\n",
    "# # Cek rasio tiap label\n",
    "# print('=========')\n",
    "# print(f'Jumlah label data asli:\\n{df.keterlibatan_vltr.value_counts()}')\n",
    "# print(f'Jumlah label data train:\\n{df_train.keterlibatan_vltr.value_counts()}')\n",
    "# print(f'Jumlah label data val:\\n{df_val.keterlibatan_vltr.value_counts()}')\n",
    "# print(f'Jumlah label data test:\\n{df_test.keterlibatan_vltr.value_counts()}')"
   ]
  },
  {
   "cell_type": "code",
   "execution_count": 167,
   "metadata": {},
   "outputs": [
    {
     "name": "stdout",
     "output_type": "stream",
     "text": [
      "Jumlah fold: 4\n",
      "Obyek SKFold: StratifiedKFold(n_splits=4, random_state=None, shuffle=False)\n",
      "Jumlah data df: 68\n",
      "Index train: [17 18 19 20 21 22 23 24 25 26 27 28 29 30 31 32 33 34 35 36 37 38 39 40\n",
      " 41 42 43 44 45 46 47 48 49 50 51 52 53 54 55 56 57 58 59 60 61 62 63 64\n",
      " 65 66 67] | Index test: [ 0  1  2  3  4  5  6  7  8  9 10 11 12 13 14 15 16]\n",
      "Index train: [ 0  1  2  3  4  5  6  7  8  9 10 11 12 13 14 15 16 31 32 33 35 36 37 39\n",
      " 41 42 43 44 45 46 47 48 49 50 51 52 53 54 55 56 57 58 59 60 61 62 63 64\n",
      " 65 66 67] | Index test: [17 18 19 20 21 22 23 24 25 26 27 28 29 30 34 38 40]\n",
      "Index train: [ 0  1  2  3  4  5  6  7  8  9 10 11 12 13 14 15 16 17 18 19 20 21 22 23\n",
      " 24 25 26 27 28 29 30 34 38 40 50 52 53 54 55 56 57 58 59 60 61 62 63 64\n",
      " 65 66 67] | Index test: [31 32 33 35 36 37 39 41 42 43 44 45 46 47 48 49 51]\n",
      "Index train: [ 0  1  2  3  4  5  6  7  8  9 10 11 12 13 14 15 16 17 18 19 20 21 22 23\n",
      " 24 25 26 27 28 29 30 31 32 33 34 35 36 37 38 39 40 41 42 43 44 45 46 47\n",
      " 48 49 51] | Index test: [50 52 53 54 55 56 57 58 59 60 61 62 63 64 65 66 67]\n"
     ]
    }
   ],
   "source": [
    "# Implementasi k-fold cross validation stratified dengan data training, validation, dan testing\n",
    "from sklearn.model_selection import train_test_split, StratifiedKFold\n",
    "\n",
    "# Split train test\n",
    "# Rasio 8:2\n",
    "df_train2, df_test2 = train_test_split(df, test_size=0.2, random_state=0)\n",
    "\n",
    "# inisiasi obyek StratifiedKFold\n",
    "# dengan data df_train2\n",
    "skf2 = StratifiedKFold(n_splits=4)\n",
    "print(f'Jumlah fold: {skf2.get_n_splits()}')\n",
    "print(f'Obyek SKFold: {skf2}')\n",
    "\n",
    "# Lakukan splitting dengan SKFold\n",
    "# parameter kedua dari split adalah labelnya\n",
    "# Split train menjadi train dan validasi\n",
    "skf2_split = skf2.split(df_train2, df_train2['keterlibatan_vltr'])\n",
    "print(f'Jumlah data df: {df_train2.shape[0]}')\n",
    "\n",
    "# cek index data tiap fold\n",
    "for train_index, test_index in skf2_split:\n",
    "    print(f'Index train: {train_index} | Index test: {test_index}')"
   ]
  },
  {
   "cell_type": "markdown",
   "metadata": {},
   "source": [
    "Uraian mengenai data validasi"
   ]
  },
  {
   "cell_type": "markdown",
   "metadata": {},
   "source": [
    "Data validasi terdapat diantara model splitting.\n",
    "Hasil testing pada model splitting ini adalah rata-rata hasil untuk setiap fold. Besaran spliting data akan ditentukan oleh nilai k-nya. Jika kita menggunakan nilai k=4, maka data akan dibagi menjadi 4 bagian. Salah satu dari bagian tersebut akan menjadi data validasi. Kemudian, untuk setiap iterasi, data validasi akan diganti sesuai dengan jumlah fold."
   ]
  },
  {
   "cell_type": "markdown",
   "metadata": {},
   "source": [
    "4. Terapkan dua jenis metode klasifikasi dan lakukan perbandingan akurasi  dengan wajib melibatkan variabel keterlibatan volunteer sampai variabel luaran-luaran yang dihasilkan!"
   ]
  },
  {
   "cell_type": "code",
   "execution_count": 168,
   "metadata": {},
   "outputs": [
    {
     "name": "stdout",
     "output_type": "stream",
     "text": [
      "[1 1 1 1 1]\n",
      "Test set accuracy: 1.00\n"
     ]
    },
    {
     "data": {
      "text/html": [
       "<style>#sk-container-id-6 {color: black;background-color: white;}#sk-container-id-6 pre{padding: 0;}#sk-container-id-6 div.sk-toggleable {background-color: white;}#sk-container-id-6 label.sk-toggleable__label {cursor: pointer;display: block;width: 100%;margin-bottom: 0;padding: 0.3em;box-sizing: border-box;text-align: center;}#sk-container-id-6 label.sk-toggleable__label-arrow:before {content: \"▸\";float: left;margin-right: 0.25em;color: #696969;}#sk-container-id-6 label.sk-toggleable__label-arrow:hover:before {color: black;}#sk-container-id-6 div.sk-estimator:hover label.sk-toggleable__label-arrow:before {color: black;}#sk-container-id-6 div.sk-toggleable__content {max-height: 0;max-width: 0;overflow: hidden;text-align: left;background-color: #f0f8ff;}#sk-container-id-6 div.sk-toggleable__content pre {margin: 0.2em;color: black;border-radius: 0.25em;background-color: #f0f8ff;}#sk-container-id-6 input.sk-toggleable__control:checked~div.sk-toggleable__content {max-height: 200px;max-width: 100%;overflow: auto;}#sk-container-id-6 input.sk-toggleable__control:checked~label.sk-toggleable__label-arrow:before {content: \"▾\";}#sk-container-id-6 div.sk-estimator input.sk-toggleable__control:checked~label.sk-toggleable__label {background-color: #d4ebff;}#sk-container-id-6 div.sk-label input.sk-toggleable__control:checked~label.sk-toggleable__label {background-color: #d4ebff;}#sk-container-id-6 input.sk-hidden--visually {border: 0;clip: rect(1px 1px 1px 1px);clip: rect(1px, 1px, 1px, 1px);height: 1px;margin: -1px;overflow: hidden;padding: 0;position: absolute;width: 1px;}#sk-container-id-6 div.sk-estimator {font-family: monospace;background-color: #f0f8ff;border: 1px dotted black;border-radius: 0.25em;box-sizing: border-box;margin-bottom: 0.5em;}#sk-container-id-6 div.sk-estimator:hover {background-color: #d4ebff;}#sk-container-id-6 div.sk-parallel-item::after {content: \"\";width: 100%;border-bottom: 1px solid gray;flex-grow: 1;}#sk-container-id-6 div.sk-label:hover label.sk-toggleable__label {background-color: #d4ebff;}#sk-container-id-6 div.sk-serial::before {content: \"\";position: absolute;border-left: 1px solid gray;box-sizing: border-box;top: 0;bottom: 0;left: 50%;z-index: 0;}#sk-container-id-6 div.sk-serial {display: flex;flex-direction: column;align-items: center;background-color: white;padding-right: 0.2em;padding-left: 0.2em;position: relative;}#sk-container-id-6 div.sk-item {position: relative;z-index: 1;}#sk-container-id-6 div.sk-parallel {display: flex;align-items: stretch;justify-content: center;background-color: white;position: relative;}#sk-container-id-6 div.sk-item::before, #sk-container-id-6 div.sk-parallel-item::before {content: \"\";position: absolute;border-left: 1px solid gray;box-sizing: border-box;top: 0;bottom: 0;left: 50%;z-index: -1;}#sk-container-id-6 div.sk-parallel-item {display: flex;flex-direction: column;z-index: 1;position: relative;background-color: white;}#sk-container-id-6 div.sk-parallel-item:first-child::after {align-self: flex-end;width: 50%;}#sk-container-id-6 div.sk-parallel-item:last-child::after {align-self: flex-start;width: 50%;}#sk-container-id-6 div.sk-parallel-item:only-child::after {width: 0;}#sk-container-id-6 div.sk-dashed-wrapped {border: 1px dashed gray;margin: 0 0.4em 0.5em 0.4em;box-sizing: border-box;padding-bottom: 0.4em;background-color: white;}#sk-container-id-6 div.sk-label label {font-family: monospace;font-weight: bold;display: inline-block;line-height: 1.2em;}#sk-container-id-6 div.sk-label-container {text-align: center;}#sk-container-id-6 div.sk-container {/* jupyter's `normalize.less` sets `[hidden] { display: none; }` but bootstrap.min.css set `[hidden] { display: none !important; }` so we also need the `!important` here to be able to override the default hidden behavior on the sphinx rendered scikit-learn.org. See: https://github.com/scikit-learn/scikit-learn/issues/21755 */display: inline-block !important;position: relative;}#sk-container-id-6 div.sk-text-repr-fallback {display: none;}</style><div id=\"sk-container-id-6\" class=\"sk-top-container\"><div class=\"sk-text-repr-fallback\"><pre>DecisionTreeClassifier(criterion=&#x27;entropy&#x27;, max_depth=8, random_state=1)</pre><b>In a Jupyter environment, please rerun this cell to show the HTML representation or trust the notebook. <br />On GitHub, the HTML representation is unable to render, please try loading this page with nbviewer.org.</b></div><div class=\"sk-container\" hidden><div class=\"sk-item\"><div class=\"sk-estimator sk-toggleable\"><input class=\"sk-toggleable__control sk-hidden--visually\" id=\"sk-estimator-id-6\" type=\"checkbox\" checked><label for=\"sk-estimator-id-6\" class=\"sk-toggleable__label sk-toggleable__label-arrow\">DecisionTreeClassifier</label><div class=\"sk-toggleable__content\"><pre>DecisionTreeClassifier(criterion=&#x27;entropy&#x27;, max_depth=8, random_state=1)</pre></div></div></div></div></div>"
      ],
      "text/plain": [
       "DecisionTreeClassifier(criterion='entropy', max_depth=8, random_state=1)"
      ]
     },
     "execution_count": 168,
     "metadata": {},
     "output_type": "execute_result"
    }
   ],
   "source": [
    "from sklearn.tree import DecisionTreeClassifier\n",
    "from sklearn.metrics import accuracy_score\n",
    "# Klasifikasi Algoritma Decission Tree\n",
    "\n",
    "# Instantiate DecisionTreeClassifier 'dt' dengan kedalaman maksimum 6\n",
    "dt = DecisionTreeClassifier(max_depth=6, random_state=1)\n",
    "\n",
    "# Sesuaikan dt ke set training\n",
    "dt.fit(X_train, y_train)\n",
    "\n",
    "# Pmemprediksi label set test\n",
    "y_pred = dt.predict(X_test)\n",
    "print(y_pred[0:5])\n",
    "\n",
    "#  menghitung set accuracy\n",
    "acc = accuracy_score(y_test, y_pred)\n",
    "print(\"Test set accuracy: {:.2f}\".format(acc))\n",
    "\n",
    "from sklearn.tree import DecisionTreeClassifier\n",
    "\n",
    "# Instantiate dt_entropy, set 'entropy' sebagai kriteria informasi\n",
    "dt_entropy = DecisionTreeClassifier(max_depth=8, criterion='entropy', random_state=1)\n",
    "\n",
    "# Fit dt_entropy kedalam training set\n",
    "dt_entropy.fit(X_train, y_train)"
   ]
  },
  {
   "cell_type": "code",
   "execution_count": 169,
   "metadata": {},
   "outputs": [
    {
     "name": "stdout",
     "output_type": "stream",
     "text": [
      "Accuracy achieved by using entropy:  1.0\n",
      "Accuracy achieved by using gini:  1.0\n"
     ]
    }
   ],
   "source": [
    "dt_gini = DecisionTreeClassifier(max_depth=8, criterion='gini', random_state=1)\n",
    "dt_gini.fit(X_train, y_train)\n",
    "\n",
    "\n",
    "# menggunakan dt_entropy untuk memprediksi test set labels\n",
    "y_pred = dt_entropy.predict(X_test)\n",
    "y_pred_gini = dt_gini.predict(X_test)\n",
    "\n",
    "# mengevaluasi accuracy_entropy\n",
    "accuracy_entropy = accuracy_score(y_test, y_pred)\n",
    "accuracy_gini = accuracy_score(y_test, y_pred_gini)\n",
    "\n",
    "# Print accuracy_entropy\n",
    "print(\"Accuracy achieved by using entropy: \", accuracy_entropy)\n",
    "\n",
    "# Print accuracy_gini\n",
    "print(\"Accuracy achieved by using gini: \", accuracy_gini)"
   ]
  },
  {
   "cell_type": "code",
   "execution_count": 170,
   "metadata": {},
   "outputs": [
    {
     "name": "stdout",
     "output_type": "stream",
     "text": [
      "Hasil akurasi data train: 0.9558823529411765\n",
      "Hasil akurasi data test: 1.0\n"
     ]
    }
   ],
   "source": [
    "# Klasifikasi Algoritma Naive Bayes\n",
    "\n",
    "from sklearn.naive_bayes import GaussianNB\n",
    "from sklearn.metrics import accuracy_score\n",
    "\n",
    "# Inisiasi obyek MultinomialNB\n",
    "gnb = GaussianNB()\n",
    "\n",
    "# Fit model\n",
    "# Label y harus dalam bentu 1D atau (n_samples,)\n",
    "gnb.fit(X_train, y_train)\n",
    "\n",
    "# Prediksi dengan data training\n",
    "y_train_pred = gnb.predict(X_train)\n",
    "\n",
    "# Evaluasi akurasi training\n",
    "acc_train = accuracy_score(y_train, y_train_pred)\n",
    "\n",
    "# Prediksi test data\n",
    "y_test_pred = gnb.predict(X_test)\n",
    "\n",
    "# Evaluasi model dengan metric akurasi\n",
    "acc_test = accuracy_score(y_test, y_test_pred)\n",
    "\n",
    "# Print hasil evaluasi\n",
    "print(f'Hasil akurasi data train: {acc_train}')\n",
    "print(f'Hasil akurasi data test: {acc_test}')"
   ]
  },
  {
   "cell_type": "code",
   "execution_count": 171,
   "metadata": {},
   "outputs": [
    {
     "name": "stdout",
     "output_type": "stream",
     "text": [
      "Test set accuracy: 0.94\n",
      "Test set accuracy: 0.9411764705882353\n"
     ]
    }
   ],
   "source": [
    "# Klasifikasi Algoritma RandomForest\n",
    "\n",
    "rf = RandomForestClassifier(n_estimators=10, random_state=1)\n",
    "\n",
    "# Sesuaikan dt ke set training\n",
    "rf.fit(X_train, y_train)\n",
    "\n",
    "# Memprediksi label set test\n",
    "y_pred_rf = rf.predict(X_test)\n",
    "\n",
    "#  menghitung set accuracy\n",
    "acc_rf = accuracy_score(y_test, y_pred_rf)\n",
    "print(\"Test set accuracy: {:.2f}\".format(acc_rf))\n",
    "print(f\"Test set accuracy: {acc_rf}\")"
   ]
  },
  {
   "cell_type": "code",
   "execution_count": 172,
   "metadata": {},
   "outputs": [
    {
     "name": "stdout",
     "output_type": "stream",
     "text": [
      "Perbandingan antara Decission, Naive Bayes dan Random Forest :  -0.9411764705882353\n"
     ]
    }
   ],
   "source": [
    "# Melakukan Perbandingan antara KNN dan Random Forest\n",
    "print('Perbandingan antara Decission, Naive Bayes dan Random Forest : ',(accuracy_score(y_test, y_pred)-accuracy_score(y_test, y_test_pred)-accuracy_score(y_test, y_pred_rf)))"
   ]
  },
  {
   "cell_type": "markdown",
   "metadata": {},
   "source": [
    "5. Terapkan sebuah metode prediksi (berdasarkan tahun, misal: jumlah kegiatan pada tahun tertentu sebagai x dan jumlah  luaran sebagai y) serta hitung akurasinya dengan wajib melibatkan variabel keterlibatan volunteer sampai variabel luaran-luaran yang dihasilkan! (20 poin)"
   ]
  },
  {
   "cell_type": "markdown",
   "metadata": {},
   "source": [
    "Root Mean Square Error (RMSE) merupakan besarnya tingkat kesalahan hasil prediksi, dimana semakin kecil (mendekati 0) nilai RMSE maka hasil prediksi akan semakin akurat."
   ]
  },
  {
   "cell_type": "code",
   "execution_count": 173,
   "metadata": {},
   "outputs": [],
   "source": [
    "# from sklearn.tree import DecisionTreeRegressor\n",
    "# from sklearn.metrics import mean_squared_error\n",
    "\n",
    "# # Instantiate dt\n",
    "# dt = DecisionTreeRegressor(max_depth=8, min_samples_leaf=0.13, random_state=3)\n",
    "\n",
    "# # Fit dt kedalam the training set\n",
    "# dt.fit(X_train, y_train)\n",
    "\n",
    "# # Compute y_pred\n",
    "# y_pred = dt.predict(X_test)\n",
    "\n",
    "# # Compute mse_dt\n",
    "# mse_dt = mean_squared_error(y_test, y_pred)\n",
    "\n",
    "# # Compute rmse_dt\n",
    "# rmse_dt = mse_dt ** (1/2)\n",
    "\n",
    "# # Print rmse_dt\n",
    "# print(\"Test set RMSE dt: {:.2f}\".format(rmse_dt))"
   ]
  },
  {
   "cell_type": "code",
   "execution_count": 174,
   "metadata": {},
   "outputs": [
    {
     "name": "stdout",
     "output_type": "stream",
     "text": [
      "Prediksi Keterlibatan Volunter pada Tahun 2022 adalah ['Draft' 'Draft' 'TIDAK ADA' 'TIDAK ADA' 'TIDAK ADA' 'TIDAK ADA'\n",
      " 'TIDAK ADA' 'Draft' 'Draft' 'Draft' 'TIDAK ADA' 'Draft' 'Draft' 'Draft'\n",
      " 'TIDAK ADA' 'TIDAK ADA' 'TIDAK ADA' 'Draft' 'TIDAK ADA' 'TIDAK ADA'\n",
      " 'TIDAK ADA' 'TIDAK ADA' 'TIDAK ADA' 'TIDAK ADA' 'TIDAK ADA' 'TIDAK ADA'\n",
      " 'Draft']\n",
      "Akurasi Prediksi :  1.0\n"
     ]
    }
   ],
   "source": [
    "# Melakukan Metode Prediksi Keterlibatan Volunter berdasrkan Tahun dengan Klasifikasi Naive Bayes\n",
    "\n",
    "tahun = 2022\n",
    "prediksi = df[df['tahun'] == tahun]\n",
    "prediksi = prediksi.drop(['keterlibatan_vltr'], axis=1)\n",
    "\n",
    "prediksi = scaler.transform(prediksi)\n",
    "prediksi = gnb.predict(prediksi)\n",
    "\n",
    "# Menampilkan Hasil Prediksi dan decode prediksi\n",
    "print('Prediksi Keterlibatan Volunter pada Tahun',tahun,'adalah',encoder.inverse_transform(prediksi))\n",
    "\n",
    "# Hitung Akurasi Prediksi\n",
    "from sklearn.metrics import accuracy_score\n",
    "print('Akurasi Prediksi : ',accuracy_score(y_test, y_test_pred))"
   ]
  },
  {
   "cell_type": "markdown",
   "metadata": {},
   "source": [
    "6. Buat Confusion Matrix dan ROC berdasarkan klasifikasi yang diterapkan pada nomor 4!"
   ]
  },
  {
   "cell_type": "code",
   "execution_count": 175,
   "metadata": {},
   "outputs": [
    {
     "name": "stdout",
     "output_type": "stream",
     "text": [
      "Confusion Matrix Decision Tree :  [[8 0]\n",
      " [0 9]]\n"
     ]
    }
   ],
   "source": [
    "# Matric Decision Tree\n",
    "from sklearn.tree import DecisionTreeClassifier\n",
    "from sklearn.naive_bayes import GaussianNB\n",
    "from sklearn.metrics import confusion_matrix, roc_auc_score, roc_curve\n",
    "\n",
    "model = DecisionTreeClassifier()\n",
    "model.fit(X_train, y_train)\n",
    "y_pred = model.predict(X_test) # prediksi\n",
    "\n",
    "print('Confusion Matrix Decision Tree : ', confusion_matrix(y_test, y_pred)) \n"
   ]
  },
  {
   "cell_type": "code",
   "execution_count": 176,
   "metadata": {},
   "outputs": [
    {
     "name": "stderr",
     "output_type": "stream",
     "text": [
      "<ipython-input-176-d6b6cf305302>:8: UserWarning: Matplotlib is currently using agg, which is a non-GUI backend, so cannot show the figure.\n",
      "  plt.show()\n"
     ]
    },
    {
     "data": {
      "image/png": "[encoded data removed]",
      "text/plain": [
       "<Figure size 576x360 with 2 Axes>"
      ]
     },
     "metadata": {
      "needs_background": "light"
     },
     "output_type": "display_data"
    }
   ],
   "source": [
    "# Visualisasi Confusion Matrix \n",
    "import seaborn as sns\n",
    "import matplotlib.pyplot as plt\n",
    "f, ax = plt.subplots(figsize=(8,5))\n",
    "sns.heatmap(confusion_matrix(y_test, y_pred), annot=True, fmt=\".0f\", ax=ax)\n",
    "plt.xlabel(\"y_head\")\n",
    "plt.ylabel(\"y_true\")\n",
    "plt.show()"
   ]
  },
  {
   "cell_type": "code",
   "execution_count": 177,
   "metadata": {},
   "outputs": [
    {
     "name": "stdout",
     "output_type": "stream",
     "text": [
      "Confusion Matrix Naive Bayes :  [[8 0]\n",
      " [0 9]]\n"
     ]
    }
   ],
   "source": [
    "from sklearn.naive_bayes import GaussianNB\n",
    "\n",
    "# Matric Naive Bayes\n",
    "model2 = GaussianNB()\n",
    "model.fit(X_train, y_train)\n",
    "y_test_pred = model.predict(X_test) # prediksi\n",
    "\n",
    "print('Confusion Matrix Naive Bayes : ',confusion_matrix(y_test, y_test_pred)) "
   ]
  },
  {
   "cell_type": "code",
   "execution_count": 178,
   "metadata": {},
   "outputs": [
    {
     "name": "stderr",
     "output_type": "stream",
     "text": [
      "<ipython-input-178-dea192326cf5>:8: UserWarning: Matplotlib is currently using agg, which is a non-GUI backend, so cannot show the figure.\n",
      "  plt.show()\n"
     ]
    },
    {
     "data": {
      "image/png": "[encoded data removed]",
      "text/plain": [
       "<Figure size 576x360 with 2 Axes>"
      ]
     },
     "metadata": {
      "needs_background": "light"
     },
     "output_type": "display_data"
    }
   ],
   "source": [
    "# Visualisasi Confusion Matrix \n",
    "import seaborn as sns\n",
    "import matplotlib.pyplot as plt\n",
    "f, ax = plt.subplots(figsize=(8,5))\n",
    "sns.heatmap(confusion_matrix(y_test, y_test_pred), annot=True, fmt=\".0f\", ax=ax)\n",
    "plt.xlabel(\"y_head\")\n",
    "plt.ylabel(\"y_true\")\n",
    "plt.show()"
   ]
  },
  {
   "cell_type": "markdown",
   "metadata": {},
   "source": [
    "ROC Curve"
   ]
  },
  {
   "cell_type": "code",
   "execution_count": 179,
   "metadata": {},
   "outputs": [
    {
     "name": "stdout",
     "output_type": "stream",
     "text": [
      "              precision    recall  f1-score   support\n",
      "\n",
      "           0       1.00      1.00      1.00         8\n",
      "           1       1.00      1.00      1.00         9\n",
      "\n",
      "    accuracy                           1.00        17\n",
      "   macro avg       1.00      1.00      1.00        17\n",
      "weighted avg       1.00      1.00      1.00        17\n",
      "\n",
      "ROC Decission Tree :  1.0\n"
     ]
    }
   ],
   "source": [
    "from sklearn.metrics import classification_report\n",
    "print (classification_report(y_test, y_pred))\n",
    "\n",
    "print('ROC Decission Tree : ',roc_auc_score(y_test, y_pred))"
   ]
  },
  {
   "cell_type": "code",
   "execution_count": 180,
   "metadata": {},
   "outputs": [
    {
     "name": "stdout",
     "output_type": "stream",
     "text": [
      "              precision    recall  f1-score   support\n",
      "\n",
      "           0       1.00      1.00      1.00         8\n",
      "           1       1.00      1.00      1.00         9\n",
      "\n",
      "    accuracy                           1.00        17\n",
      "   macro avg       1.00      1.00      1.00        17\n",
      "weighted avg       1.00      1.00      1.00        17\n",
      "\n",
      "ROC Decission Tree :  1.0\n"
     ]
    }
   ],
   "source": [
    "from sklearn.metrics import classification_report\n",
    "print (classification_report(y_test, y_test_pred))\n",
    "\n",
    "print('ROC Decission Tree : ',roc_auc_score(y_test, y_test_pred))"
   ]
  },
  {
   "cell_type": "code",
   "execution_count": 181,
   "metadata": {},
   "outputs": [
    {
     "data": {
      "text/html": [
       "<style>#sk-container-id-7 {color: black;background-color: white;}#sk-container-id-7 pre{padding: 0;}#sk-container-id-7 div.sk-toggleable {background-color: white;}#sk-container-id-7 label.sk-toggleable__label {cursor: pointer;display: block;width: 100%;margin-bottom: 0;padding: 0.3em;box-sizing: border-box;text-align: center;}#sk-container-id-7 label.sk-toggleable__label-arrow:before {content: \"▸\";float: left;margin-right: 0.25em;color: #696969;}#sk-container-id-7 label.sk-toggleable__label-arrow:hover:before {color: black;}#sk-container-id-7 div.sk-estimator:hover label.sk-toggleable__label-arrow:before {color: black;}#sk-container-id-7 div.sk-toggleable__content {max-height: 0;max-width: 0;overflow: hidden;text-align: left;background-color: #f0f8ff;}#sk-container-id-7 div.sk-toggleable__content pre {margin: 0.2em;color: black;border-radius: 0.25em;background-color: #f0f8ff;}#sk-container-id-7 input.sk-toggleable__control:checked~div.sk-toggleable__content {max-height: 200px;max-width: 100%;overflow: auto;}#sk-container-id-7 input.sk-toggleable__control:checked~label.sk-toggleable__label-arrow:before {content: \"▾\";}#sk-container-id-7 div.sk-estimator input.sk-toggleable__control:checked~label.sk-toggleable__label {background-color: #d4ebff;}#sk-container-id-7 div.sk-label input.sk-toggleable__control:checked~label.sk-toggleable__label {background-color: #d4ebff;}#sk-container-id-7 input.sk-hidden--visually {border: 0;clip: rect(1px 1px 1px 1px);clip: rect(1px, 1px, 1px, 1px);height: 1px;margin: -1px;overflow: hidden;padding: 0;position: absolute;width: 1px;}#sk-container-id-7 div.sk-estimator {font-family: monospace;background-color: #f0f8ff;border: 1px dotted black;border-radius: 0.25em;box-sizing: border-box;margin-bottom: 0.5em;}#sk-container-id-7 div.sk-estimator:hover {background-color: #d4ebff;}#sk-container-id-7 div.sk-parallel-item::after {content: \"\";width: 100%;border-bottom: 1px solid gray;flex-grow: 1;}#sk-container-id-7 div.sk-label:hover label.sk-toggleable__label {background-color: #d4ebff;}#sk-container-id-7 div.sk-serial::before {content: \"\";position: absolute;border-left: 1px solid gray;box-sizing: border-box;top: 0;bottom: 0;left: 50%;z-index: 0;}#sk-container-id-7 div.sk-serial {display: flex;flex-direction: column;align-items: center;background-color: white;padding-right: 0.2em;padding-left: 0.2em;position: relative;}#sk-container-id-7 div.sk-item {position: relative;z-index: 1;}#sk-container-id-7 div.sk-parallel {display: flex;align-items: stretch;justify-content: center;background-color: white;position: relative;}#sk-container-id-7 div.sk-item::before, #sk-container-id-7 div.sk-parallel-item::before {content: \"\";position: absolute;border-left: 1px solid gray;box-sizing: border-box;top: 0;bottom: 0;left: 50%;z-index: -1;}#sk-container-id-7 div.sk-parallel-item {display: flex;flex-direction: column;z-index: 1;position: relative;background-color: white;}#sk-container-id-7 div.sk-parallel-item:first-child::after {align-self: flex-end;width: 50%;}#sk-container-id-7 div.sk-parallel-item:last-child::after {align-self: flex-start;width: 50%;}#sk-container-id-7 div.sk-parallel-item:only-child::after {width: 0;}#sk-container-id-7 div.sk-dashed-wrapped {border: 1px dashed gray;margin: 0 0.4em 0.5em 0.4em;box-sizing: border-box;padding-bottom: 0.4em;background-color: white;}#sk-container-id-7 div.sk-label label {font-family: monospace;font-weight: bold;display: inline-block;line-height: 1.2em;}#sk-container-id-7 div.sk-label-container {text-align: center;}#sk-container-id-7 div.sk-container {/* jupyter's `normalize.less` sets `[hidden] { display: none; }` but bootstrap.min.css set `[hidden] { display: none !important; }` so we also need the `!important` here to be able to override the default hidden behavior on the sphinx rendered scikit-learn.org. See: https://github.com/scikit-learn/scikit-learn/issues/21755 */display: inline-block !important;position: relative;}#sk-container-id-7 div.sk-text-repr-fallback {display: none;}</style><div id=\"sk-container-id-7\" class=\"sk-top-container\"><div class=\"sk-text-repr-fallback\"><pre>LogisticRegression()</pre><b>In a Jupyter environment, please rerun this cell to show the HTML representation or trust the notebook. <br />On GitHub, the HTML representation is unable to render, please try loading this page with nbviewer.org.</b></div><div class=\"sk-container\" hidden><div class=\"sk-item\"><div class=\"sk-estimator sk-toggleable\"><input class=\"sk-toggleable__control sk-hidden--visually\" id=\"sk-estimator-id-7\" type=\"checkbox\" checked><label for=\"sk-estimator-id-7\" class=\"sk-toggleable__label sk-toggleable__label-arrow\">LogisticRegression</label><div class=\"sk-toggleable__content\"><pre>LogisticRegression()</pre></div></div></div></div></div>"
      ],
      "text/plain": [
       "LogisticRegression()"
      ]
     },
     "execution_count": 181,
     "metadata": {},
     "output_type": "execute_result"
    }
   ],
   "source": [
    "from sklearn.model_selection import train_test_split\n",
    "from sklearn.linear_model import LogisticRegression\n",
    "from sklearn import metrics\n",
    "\n",
    "#instantiate the model\n",
    "log_regression = LogisticRegression()\n",
    "\n",
    "#fit the model using the training data\n",
    "log_regression.fit(X_train,y_train)"
   ]
  },
  {
   "cell_type": "code",
   "execution_count": 182,
   "metadata": {},
   "outputs": [
    {
     "name": "stderr",
     "output_type": "stream",
     "text": [
      "<ipython-input-182-cd097cc26ebd>:10: UserWarning: Matplotlib is currently using agg, which is a non-GUI backend, so cannot show the figure.\n",
      "  plt.show()\n"
     ]
    },
    {
     "data": {
      "image/png": "[encoded data removed]",
      "text/plain": [
       "<Figure size 432x288 with 1 Axes>"
      ]
     },
     "metadata": {
      "needs_background": "light"
     },
     "output_type": "display_data"
    }
   ],
   "source": [
    "y_pred_proba = log_regression.predict_proba(X_test)[::,1]\n",
    "fpr, tpr, _ = metrics.roc_curve(y_test,  y_pred_proba)\n",
    "\n",
    "\n",
    "#create ROC curve\n",
    "plt.plot(fpr,tpr)\n",
    "plt.ylabel('True Positive Rate')\n",
    "plt.xlabel('False Positive Rate')\n",
    "plt.plot([0, 1], [0, 1], 'k--')\n",
    "plt.show()"
   ]
  },
  {
   "cell_type": "code",
   "execution_count": 183,
   "metadata": {},
   "outputs": [
    {
     "name": "stderr",
     "output_type": "stream",
     "text": [
      "<ipython-input-183-b197d55c4682>:11: UserWarning: Matplotlib is currently using agg, which is a non-GUI backend, so cannot show the figure.\n",
      "  plt.show()\n"
     ]
    },
    {
     "data": {
      "image/png": "[encoded data removed]",
      "text/plain": [
       "<Figure size 432x288 with 1 Axes>"
      ]
     },
     "metadata": {
      "needs_background": "light"
     },
     "output_type": "display_data"
    }
   ],
   "source": [
    "# ROC \n",
    "fpr, tpr, thresholds = roc_curve(y_test, y_pred)\n",
    "fpr2, tpr2, thresholds2 = roc_curve(y_test, y_test_pred)\n",
    "plt.plot(fpr, tpr, label='Decision Tree')\n",
    "plt.plot(fpr2, tpr2, label='Naive Bayes')\n",
    "plt.plot([0, 1], [0, 1], 'k--')\n",
    "plt.xlabel('False Positive Rate')\n",
    "plt.ylabel('True Positive Rate')\n",
    "plt.title('ROC Curve')\n",
    "plt.legend()\n",
    "plt.show()"
   ]
  },
  {
   "cell_type": "code",
   "execution_count": 184,
   "metadata": {},
   "outputs": [],
   "source": [
    "# from sklearn.metrics import roc_curve, roc_auc_score\n",
    "# from sklearn import svm\n",
    "# from sklearn.model_selection import train_test_split\n",
    "\n",
    "\n",
    "# classifier = svm.SVC(probability=True)\n",
    "# classifier.fit(X_train, y_train)"
   ]
  },
  {
   "cell_type": "code",
   "execution_count": 185,
   "metadata": {},
   "outputs": [],
   "source": [
    "# X = df.drop(['keterlibatan_vltr'], axis=1)\n",
    "# y = df['keterlibatan_vltr']"
   ]
  },
  {
   "cell_type": "code",
   "execution_count": 186,
   "metadata": {},
   "outputs": [],
   "source": [
    "# #Menghitung prediction probability dari model yang telah dibuat\n",
    "# svm_probs = classifier.predict_proba(X_test)\n",
    " \n",
    "# #Prediction probability berisi '0'\n",
    "# random_probs = [0 for _ in range(len(y_test))]"
   ]
  },
  {
   "cell_type": "code",
   "execution_count": 187,
   "metadata": {},
   "outputs": [],
   "source": [
    "# svm_probs = svm_probs[:,1]"
   ]
  },
  {
   "cell_type": "code",
   "execution_count": 188,
   "metadata": {},
   "outputs": [],
   "source": [
    "# #menghitung AUC untuk random model\n",
    "# random_auc = roc_auc_score(y_test, random_probs)\n",
    " \n",
    "# #menghitung AUC SVM classifier\n",
    "# svm_auc = roc_auc_score(y_test, svm_probs)\n",
    " \n",
    "# #menampilkan hasil\n",
    "# print('Random Prediction : AUCROC = %.3f' % (random_auc))\n",
    "# print('SVM : AUCROC = %.3f' % (svm_auc))"
   ]
  },
  {
   "cell_type": "code",
   "execution_count": 189,
   "metadata": {},
   "outputs": [],
   "source": [
    "# #menyimpan nilai yang dibutuhkan untuk membuat ROC curve (false positive rate, true positive rate)\n",
    "# random_fpr, random_tpr, _ = roc_curve(y_test, random_probs)\n",
    "# svm_fpr, svm_tpr, _ = roc_curve(y_test, svm_probs)\n",
    " \n",
    "# #plot ROC curve dengan matplotlib.pyplot\n",
    "# plt.plot(random_fpr, random_tpr, marker='.', label='Random : (AUCROC = %.3f)' % random_auc)\n",
    "# plt.plot(svm_fpr, svm_tpr, marker='.', label='SVM : (AUCROC = %.3f)' % svm_auc)\n",
    " \n",
    "# plt.title('ROC Plot')\n",
    "# plt.xlabel('False Positive Rate')\n",
    "# plt.ylabel('True Positive Rate')\n",
    "# plt.legend()\n",
    "# plt.show()"
   ]
  },
  {
   "cell_type": "markdown",
   "metadata": {},
   "source": [
    "7. Lakukan hyperparameter tunning berdasarkan jawaban nomor 2, 3, dan 4 menggunakan metode Grid Search, Random Search, dan Exhausive Search"
   ]
  },
  {
   "cell_type": "code",
   "execution_count": 190,
   "metadata": {},
   "outputs": [],
   "source": [
    "from sklearn.model_selection import GridSearchCV\n",
    "from sklearn.model_selection import RandomizedSearchCV\n",
    "from sklearn.svm import SVC  # \"Support Vector Classifier\""
   ]
  },
  {
   "cell_type": "code",
   "execution_count": 191,
   "metadata": {},
   "outputs": [],
   "source": [
    "# from sklearn.model_selection import RepeatedKFold\n",
    "\n",
    "# # inisiasi repated k-fold\n",
    "# cv = RepeatedKFold(n_splits=4, n_repeats=3, random_state=42)"
   ]
  },
  {
   "cell_type": "code",
   "execution_count": 192,
   "metadata": {},
   "outputs": [
    {
     "name": "stdout",
     "output_type": "stream",
     "text": [
      "250 ms ± 33.7 ms per loop (mean ± std. dev. of 7 runs, 1 loop each)\n",
      "Hasil evaluasi: 1.0\n",
      "Konfigurasi hyperparameter: {'criterion': 'entropy', 'max_depth': 5}\n"
     ]
    }
   ],
   "source": [
    "# Grid Search\n",
    "params = {\n",
    "   'criterion': ['gini', 'entropy', 'log_loss'],\n",
    "   'max_depth': list(range(5,10))\n",
    "}\n",
    "\n",
    "# inisiasi grid berdasarkan nilai repeated k-fold dan hyperparameter\n",
    "grid = GridSearchCV(model, param_grid=params, cv=skf2)\n",
    "\n",
    "# Fit / latih berdasarkan random\n",
    "# %timeit merupakan magic command didalam ipython notebook\n",
    "# yang dapat kita gunakan untuk menghitung waktu komputasi\n",
    "# cara ini cukup efektif untuk melakukan evaluasi suatu algoritma atau prosedur\n",
    "\n",
    "%timeit grid.fit(X, y)\n",
    "\n",
    "# Evaluasi dengan score\n",
    "score = grid.score(X, y)\n",
    "\n",
    "print(f'Hasil evaluasi: {score}')\n",
    "print(f'Konfigurasi hyperparameter: {grid.best_params_}')"
   ]
  },
  {
   "cell_type": "code",
   "execution_count": 193,
   "metadata": {},
   "outputs": [
    {
     "name": "stdout",
     "output_type": "stream",
     "text": [
      "82.9 ms ± 4.37 ms per loop (mean ± std. dev. of 7 runs, 1 loop each)\n",
      "Hasil evaluasi: 1.0\n",
      "Konfigurasi hyperparameter: {'max_depth': 7, 'criterion': 'log_loss'}\n"
     ]
    }
   ],
   "source": [
    "# Random Search\n",
    "params = {\n",
    "       'criterion': ['gini', 'entropy', 'log_loss'],\n",
    "    'max_depth': list(range(5,10))\n",
    "}\n",
    "\n",
    "# inisiasi grid berdasarkan nilai repeated k-fold dan hyperparameter\n",
    "rs = RandomizedSearchCV(model, param_distributions=params, cv=skf2,\n",
    "                        n_iter=10, scoring=\"accuracy\", n_jobs=-1, return_train_score=True)\n",
    "\n",
    "# Fit / latih berdasarkan random\n",
    "# %timeit merupakan magic command didalam ipython notebook\n",
    "# yang dapat kita gunakan untuk menghitung waktu komputasi\n",
    "# cara ini cukup efektif untuk melakukan evaluasi suatu algoritma atau prosedur\n",
    "\n",
    "%timeit rs.fit(X, y)\n",
    "\n",
    "# Evaluasi dengan score\n",
    "score = rs.score(X, y)\n",
    "\n",
    "print(f'Hasil evaluasi: {score}')\n",
    "print(f'Konfigurasi hyperparameter: {rs.best_params_}')"
   ]
  },
  {
   "cell_type": "code",
   "execution_count": 194,
   "metadata": {},
   "outputs": [
    {
     "name": "stdout",
     "output_type": "stream",
     "text": [
      "1.09 s ± 16.7 ms per loop (mean ± std. dev. of 7 runs, 1 loop each)\n",
      "Hasil evaluasi: 0.9647058823529412\n",
      "2.81 ms ± 485 µs per loop (mean ± std. dev. of 7 runs, 100 loops each)\n",
      "Hasil evaluasi dengan gamma: 1.0\n"
     ]
    }
   ],
   "source": [
    "# Exchived Search\n",
    "\n",
    "# Setelah melakukan beberapa percobaan kombinasi hyperparameter,\n",
    "# hasil evaluasi terbaik didapatkan dengan konfigurasi hyperparameter sebagai berikut\n",
    "ms = SVC(kernel=\"linear\", C=100)\n",
    "\n",
    "# Fit / latih berdasarkan random\n",
    "# %timeit merupakan magic command didalam ipython notebook\n",
    "# yang dapat kita gunakan untuk menghitung waktu komputasi\n",
    "# cara ini cukup efektif untuk melakukan evaluasi suatu algoritma atau prosedur\n",
    "\n",
    "%timeit ms.fit(X, y)\n",
    "\n",
    "# Evaluasi dengan score\n",
    "score = ms.score(X, y)\n",
    "\n",
    "print(f'Hasil evaluasi: {score}')\n",
    "\n",
    "# Menggunakan hyperparameter gamma dan kernel rbf\n",
    "msg = SVC(kernel=\"rbf\", C=100, gamma=0.001)\n",
    "\n",
    "%timeit msg.fit(X, y)\n",
    "score = msg.score(X, y)\n",
    "\n",
    "print(f'Hasil evaluasi dengan gamma: {score}')"
   ]
  },
  {
   "cell_type": "markdown",
   "metadata": {},
   "source": [
    "8. Tambahkan visualisasi berdasarkan nomor 4 dan 5 (masing-masing nomor minimal satu visualisasi)!"
   ]
  },
  {
   "cell_type": "code",
   "execution_count": 204,
   "metadata": {},
   "outputs": [
    {
     "name": "stderr",
     "output_type": "stream",
     "text": [
      "<ipython-input-204-f122f6af0ea1>:16: UserWarning: Matplotlib is currently using agg, which is a non-GUI backend, so cannot show the figure.\n",
      "  plt.show()\n"
     ]
    },
    {
     "data": {
      "image/png": "[encoded data removed]",
      "text/plain": [
       "<Figure size 432x288 with 1 Axes>"
      ]
     },
     "metadata": {},
     "output_type": "display_data"
    }
   ],
   "source": [
    "# Membuat Visualisasi Perbandingan antara Decision Tree dan Naive Bayes\n",
    "import matplotlib.pyplot as plt\n",
    "import numpy as np\n",
    "\n",
    "# Data to plot\n",
    "labels = 'Decission Tree', 'Naive Bayes'\n",
    "sizes = [accuracy_score(y_test, y_pred), accuracy_score(y_test, y_test_pred)]\n",
    "colors = ['pink', 'yellowgreen', ]\n",
    "explode = (0.1, 0)  # explode 1st slice\n",
    "\n",
    "# Plot\n",
    "plt.pie(sizes, explode=explode, labels=labels, colors=colors,\n",
    "autopct='%1.1f%%', shadow=True, startangle=140)\n",
    "\n",
    "plt.axis('equal')\n",
    "plt.show()\n",
    "\n"
   ]
  },
  {
   "cell_type": "code",
   "execution_count": 206,
   "metadata": {},
   "outputs": [
    {
     "name": "stderr",
     "output_type": "stream",
     "text": [
      "<ipython-input-206-110ed6598b85>:16: UserWarning: Matplotlib is currently using agg, which is a non-GUI backend, so cannot show the figure.\n",
      "  plt.show()\n"
     ]
    },
    {
     "data": {
      "image/png": "[encoded data removed]",
      "text/plain": [
       "<Figure size 432x288 with 1 Axes>"
      ]
     },
     "metadata": {},
     "output_type": "display_data"
    }
   ],
   "source": [
    "\n",
    "# Visualisasi Hasil Prediksi\n",
    "import matplotlib.pyplot as plt\n",
    "import numpy as np\n",
    "\n",
    "# Data to plot\n",
    "labels = 'Tidak', 'Ya'\n",
    "sizes = [accuracy_score(y_test, y_test_pred), accuracy_score(y_test, y_test_pred)]\n",
    "colors = ['orange', 'yellowgreen']\n",
    "explode = (0.1, 0)  # explode 1st slice\n",
    "\n",
    "# Plot\n",
    "plt.pie(sizes, explode=explode, labels=labels, colors=colors,\n",
    "autopct='%1.1f%%', shadow=True, startangle=140)\n",
    "\n",
    "plt.axis('equal')\n",
    "plt.show()"
   ]
  }
 ],
 "metadata": {
  "kernelspec": {
   "display_name": "Python 3.8.8 ('base')",
   "language": "python",
   "name": "python3"
  },
  "language_info": {
   "codemirror_mode": {
    "name": "ipython",
    "version": 3
   },
   "file_extension": ".py",
   "mimetype": "text/x-python",
   "name": "python",
   "nbconvert_exporter": "python",
   "pygments_lexer": "ipython3",
   "version": "3.8.8"
  },
  "orig_nbformat": 4,
  "vscode": {
   "interpreter": {
    "hash": "b825a9d789970fa172fb9486e492e4bfded4591d4fa1b7208bcb9d0f75f74558"
   }
  }
 },
 "nbformat": 4,
 "nbformat_minor": 2
}
